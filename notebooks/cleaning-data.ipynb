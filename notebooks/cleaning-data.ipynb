{
 "cells": [
  {
   "cell_type": "markdown",
   "metadata": {},
   "source": [
    "To remove all component details within the \"Content\" column in such a way that we only have text. \n",
    "1. Drop rows that contain anything different text. (Pauses, Actions, Unintelligble Speech)\n",
    "1. Remove punctuation marks from every row. (Removing \".\", \",\", \"'\", \"?\", etc.)\n",
    "1. Always keep the corresponding \"StTime\" and \"EnTime\".\n",
    "1. You can ommit/remove the \"Spkr\" \"Line\" or line columns."
   ]
  },
  {
   "cell_type": "code",
   "execution_count": 16,
   "metadata": {},
   "outputs": [],
   "source": [
    "import pandas as pd\n",
    "import numpy as np\n",
    "import torchaudio\n",
    "import torch"
   ]
  },
  {
   "cell_type": "code",
   "execution_count": 7,
   "metadata": {},
   "outputs": [
    {
     "data": {
      "text/html": [
       "<div>\n",
       "<style scoped>\n",
       "    .dataframe tbody tr th:only-of-type {\n",
       "        vertical-align: middle;\n",
       "    }\n",
       "\n",
       "    .dataframe tbody tr th {\n",
       "        vertical-align: top;\n",
       "    }\n",
       "\n",
       "    .dataframe thead th {\n",
       "        text-align: right;\n",
       "    }\n",
       "</style>\n",
       "<table border=\"1\" class=\"dataframe\">\n",
       "  <thead>\n",
       "    <tr style=\"text-align: right;\">\n",
       "      <th></th>\n",
       "      <th>Line</th>\n",
       "      <th>Spkr</th>\n",
       "      <th>StTime</th>\n",
       "      <th>Content</th>\n",
       "      <th>EnTime</th>\n",
       "    </tr>\n",
       "  </thead>\n",
       "  <tbody>\n",
       "    <tr>\n",
       "      <th>0</th>\n",
       "      <td>1</td>\n",
       "      <td>ATL_se0_ag1_f_01</td>\n",
       "      <td>0.4436</td>\n",
       "      <td>They talking about, don't send him to his daddy.</td>\n",
       "      <td>2.4068</td>\n",
       "    </tr>\n",
       "    <tr>\n",
       "      <th>1</th>\n",
       "      <td>2</td>\n",
       "      <td>ATL_se0_ag1_f_01</td>\n",
       "      <td>2.4068</td>\n",
       "      <td>(pause 0.28)</td>\n",
       "      <td>2.6829</td>\n",
       "    </tr>\n",
       "    <tr>\n",
       "      <th>2</th>\n",
       "      <td>3</td>\n",
       "      <td>ATL_se0_ag1_f_01</td>\n",
       "      <td>2.6829</td>\n",
       "      <td>You just need to go file for child support.</td>\n",
       "      <td>4.9538</td>\n",
       "    </tr>\n",
       "    <tr>\n",
       "      <th>3</th>\n",
       "      <td>4</td>\n",
       "      <td>ATL_int_01</td>\n",
       "      <td>5.1142</td>\n",
       "      <td>[/Oh man/.]</td>\n",
       "      <td>5.6125</td>\n",
       "    </tr>\n",
       "    <tr>\n",
       "      <th>4</th>\n",
       "      <td>5</td>\n",
       "      <td>ATL_se0_ag1_f_01</td>\n",
       "      <td>5.1488</td>\n",
       "      <td>[Bye.]</td>\n",
       "      <td>5.5995</td>\n",
       "    </tr>\n",
       "  </tbody>\n",
       "</table>\n",
       "</div>"
      ],
      "text/plain": [
       "   Line              Spkr  StTime  \\\n",
       "0     1  ATL_se0_ag1_f_01  0.4436   \n",
       "1     2  ATL_se0_ag1_f_01  2.4068   \n",
       "2     3  ATL_se0_ag1_f_01  2.6829   \n",
       "3     4        ATL_int_01  5.1142   \n",
       "4     5  ATL_se0_ag1_f_01  5.1488   \n",
       "\n",
       "                                            Content  EnTime  \n",
       "0  They talking about, don't send him to his daddy.  2.4068  \n",
       "1                                      (pause 0.28)  2.6829  \n",
       "2       You just need to go file for child support.  4.9538  \n",
       "3                                       [/Oh man/.]  5.6125  \n",
       "4                                            [Bye.]  5.5995  "
      ]
     },
     "execution_count": 7,
     "metadata": {},
     "output_type": "execute_result"
    }
   ],
   "source": [
    "transcript_dir = \"../notebooks/coraal/transcript/text\"\n",
    "\n",
    "transcript_df = pd.read_csv(transcript_dir+\"/ATL_se0_ag1_f_01_1.txt\", delimiter=\"\\t\")\n",
    "transcript_df.head()"
   ]
  },
  {
   "cell_type": "code",
   "execution_count": 10,
   "metadata": {},
   "outputs": [
    {
     "name": "stdout",
     "output_type": "stream",
     "text": [
      "(0, Line                                                      1\n",
      "Spkr                                       ATL_se0_ag1_f_01\n",
      "StTime                                               0.4436\n",
      "Content    They talking about, don't send him to his daddy.\n",
      "EnTime                                               2.4068\n",
      "Name: 0, dtype: object)\n"
     ]
    }
   ],
   "source": [
    "# Iterate through each row in our dataframe\n",
    "for row in transcript_df.iterrows():\n",
    "    print(row)\n",
    "    break"
   ]
  },
  {
   "cell_type": "code",
   "execution_count": 15,
   "metadata": {},
   "outputs": [
    {
     "name": "stdout",
     "output_type": "stream",
     "text": [
      "Line\n"
     ]
    }
   ],
   "source": [
    "# Iterates through columns\n",
    "for data in transcript_df:\n",
    "    print(data)\n",
    "    break"
   ]
  },
  {
   "cell_type": "code",
   "execution_count": 14,
   "metadata": {},
   "outputs": [
    {
     "data": {
      "text/plain": [
       "Pandas(Index=0, Line=1, Spkr='ATL_se0_ag1_f_01', StTime=0.4436, Content=\"They talking about, don't send him to his daddy.\", EnTime=2.4068)"
      ]
     },
     "metadata": {},
     "output_type": "display_data"
    }
   ],
   "source": [
    "for tuples in transcript_df.itertuples():\n",
    "    display(tuples)\n",
    "    break"
   ]
  },
  {
   "cell_type": "code",
   "execution_count": null,
   "metadata": {},
   "outputs": [],
   "source": []
  }
 ],
 "metadata": {
  "kernelspec": {
   "display_name": "aiml3",
   "language": "python",
   "name": "python3"
  },
  "language_info": {
   "codemirror_mode": {
    "name": "ipython",
    "version": 3
   },
   "file_extension": ".py",
   "mimetype": "text/x-python",
   "name": "python",
   "nbconvert_exporter": "python",
   "pygments_lexer": "ipython3",
   "version": "3.11.9"
  }
 },
 "nbformat": 4,
 "nbformat_minor": 2
}
