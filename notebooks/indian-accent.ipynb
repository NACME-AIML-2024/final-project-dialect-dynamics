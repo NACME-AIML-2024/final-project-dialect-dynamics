{
 "cells": [
  {
   "cell_type": "markdown",
   "metadata": {},
   "source": [
    "# indian accent EDA"
   ]
  },
  {
   "cell_type": "code",
   "execution_count": null,
   "metadata": {},
   "outputs": [],
   "source": [
    "! chmod 600 kaggle.json && (ls ~/.kaggle 2>/dev/null || mkdir ~/.kaggle) && mv kaggle.json ~/.kaggle/ && echo 'Done'\n"
   ]
  },
  {
   "cell_type": "code",
   "execution_count": null,
   "metadata": {},
   "outputs": [],
   "source": [
    "# downloading our dataset\n",
    "! kaggle datasets download -d polly42rose/indian-accent-dataset\n",
    "! ls\n"
   ]
  },
  {
   "cell_type": "code",
   "execution_count": null,
   "metadata": {},
   "outputs": [],
   "source": [
    "# extracting all files in zip of indian accents\n",
    "import zipfile\n",
    "import os\n",
    "\n",
    "with zipfile.ZipFile('../data/indian-accent-dataset.zip','r') as z:\n",
    "  z.extractall('./')\n",
    "\n",
    "os.listdir()"
   ]
  },
  {
   "cell_type": "markdown",
   "metadata": {},
   "source": [
    "### making commit and pushing using terminal\n"
   ]
  },
  {
   "cell_type": "markdown",
   "metadata": {},
   "source": [
    "\n",
    "1. check to see in right branch % git status\n",
    "1. add changes w/o saving data % git add notebooks/aave-eda.ipynb\n",
    "1. check to see if bracnch updated % git status\n",
    "1. then commit % git commit -m \"working on eda of interview date and making a df\"\n",
    "1. then push % git push\n",
    "1. this will move the HEAD pointer and the current branch pointer to the previous commit if you get sync error % git reset HEAD~1"
   ]
  },
  {
   "cell_type": "markdown",
   "metadata": {},
   "source": [
    "---"
   ]
  },
  {
   "cell_type": "markdown",
   "metadata": {},
   "source": [
    "# Indian Accent dataset is in audio folder"
   ]
  },
  {
   "cell_type": "markdown",
   "metadata": {},
   "source": [
    "# Visualizing all audio files in a folder, sample rate, duration, and file path"
   ]
  },
  {
   "cell_type": "code",
   "execution_count": null,
   "metadata": {},
   "outputs": [],
   "source": [
    "import os\n",
    "import torch\n",
    "import torchaudio\n",
    "import matplotlib.pyplot as plt\n",
    "from IPython.display import Audio\n",
    "\n",
    "# Define the root directory containing all audio files\n",
    "root_directory = '../notebooks/audio/Indian-Accent/dev'\n",
    "\n",
    "# Function to recursively list all audio files in a directory\n",
    "def list_audio_files(directory, extensions=('.wav', '.mp3')):\n",
    "    audio_files = []\n",
    "    for root, _, files in os.walk(directory):\n",
    "        for file in files:\n",
    "            if file.endswith(extensions):\n",
    "                audio_files.append(os.path.join(root, file))\n",
    "    return audio_files\n",
    "\n",
    "# List all audio files\n",
    "audio_files = list_audio_files(root_directory)\n",
    "\n",
    "# Function to load and analyze an audio file using torchaudio\n",
    "def analyze_audio(file_path):\n",
    "    waveform, sample_rate = torchaudio.load(file_path)\n",
    "    duration = waveform.size(1) / sample_rate\n",
    "    print(f'Analyzing file: {file_path}')\n",
    "    print(f'Sample rate: {sample_rate}')\n",
    "    print(f'Duration: {duration:.2f} seconds')\n",
    "    return waveform, sample_rate\n",
    "\n",
    "# Function to plot waveform\n",
    "def plot_waveform(waveform, sample_rate, title=\"Waveform\"):\n",
    "    num_channels, num_frames = waveform.shape\n",
    "    time_axis = torch.arange(0, num_frames) / sample_rate\n",
    "\n",
    "    figure, axes = plt.subplots(num_channels, 1, figsize=(15, 4), squeeze=False)\n",
    "    for c in range(num_channels):\n",
    "        axes[c][0].plot(time_axis.numpy(), waveform[c].numpy(), linewidth=1)\n",
    "        axes[c][0].grid(True)\n",
    "        axes[c][0].set_title(f'{title} (channel {c+1})')\n",
    "        axes[c][0].set_xlabel('Time (s)')\n",
    "        axes[c][0].set_ylabel('Amplitude')\n",
    "\n",
    "    plt.show()\n",
    "\n",
    "# Function to plot spectrogram\n",
    "def plot_spectrogram(waveform, sample_rate, title=\"Spectrogram\"):\n",
    "    spectrogram = torchaudio.transforms.Spectrogram()(waveform)\n",
    "    plt.figure(figsize=(15, 4))\n",
    "    plt.imshow(spectrogram.log2()[0,:,:].numpy(), cmap='viridis')\n",
    "    plt.colorbar(label='dB')\n",
    "    plt.title(title)\n",
    "    plt.xlabel('Frame')\n",
    "    plt.ylabel('Frequency bin')\n",
    "    plt.show()\n",
    "\n",
    "# Loop through and analyze each audio file\n",
    "for audio_file in audio_files:\n",
    "    waveform, sample_rate = analyze_audio(audio_file)\n",
    "    plot_waveform(waveform, sample_rate, title=f\"Waveform of {os.path.basename(audio_file)}\")\n",
    "    plot_spectrogram(waveform, sample_rate, title=f\"Spectrogram of {os.path.basename(audio_file)}\")\n",
    "    # Play the audio (uncomment if needed)\n",
    "    # display(Audio(audio_file))\n",
    "\n",
    "# Example: Analyze and visualize a specific file\n",
    "# specific_file = 'notebook/audio/audio/dev/30/example.wav'  # Replace with an actual file path\n",
    "# waveform, sample_rate = analyze_audio(specific_file)\n",
    "# plot_waveform(waveform, sample_rate, title=f\"Waveform of {os.path.basename(specific_file)}\")\n",
    "# plot_spectrogram(waveform, sample_rate, title=f\"Spectrogram of {os.path.basename(specific_file)}\")\n",
    "# display(Audio(specific_file))\n"
   ]
  },
  {
   "cell_type": "code",
   "execution_count": null,
   "metadata": {},
   "outputs": [],
   "source": []
  }
 ],
 "metadata": {
  "kernelspec": {
   "display_name": "aiml3",
   "language": "python",
   "name": "python3"
  },
  "language_info": {
   "codemirror_mode": {
    "name": "ipython",
    "version": 3
   },
   "file_extension": ".py",
   "mimetype": "text/x-python",
   "name": "python",
   "nbconvert_exporter": "python",
   "pygments_lexer": "ipython3",
   "version": "3.11.9"
  }
 },
 "nbformat": 4,
 "nbformat_minor": 2
}
