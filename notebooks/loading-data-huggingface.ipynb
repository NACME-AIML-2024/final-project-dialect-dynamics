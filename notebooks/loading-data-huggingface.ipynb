{
 "cells": [
  {
   "cell_type": "code",
   "execution_count": 1,
   "metadata": {},
   "outputs": [],
   "source": [
    "# MIT License\n",
    "\n",
    "# Copyright (c) 2024 GitHub\n",
    "\n",
    "# Permission is hereby granted, free of charge, to any person obtaining a copy\n",
    "# of this software and associated documentation files (the \"Software\"), to deal\n",
    "# in the Software without restriction, including without limitation the rights\n",
    "# to use, copy, modify, merge, publish, distribute, sublicense, and/or sell\n",
    "# copies of the Software, and to permit persons to whom the Software is\n",
    "# furnished to do so, subject to the following conditions:\n",
    "\n",
    "# The above copyright notice and this permission notice shall be included in all\n",
    "# copies or substantial portions of the Software.\n",
    "\n",
    "# THE SOFTWARE IS PROVIDED \"AS IS\", WITHOUT WARRANTY OF ANY KIND, EXPRESS OR\n",
    "# IMPLIED, INCLUDING BUT NOT LIMITED TO THE WARRANTIES OF MERCHANTABILITY,\n",
    "# FITNESS FOR A PARTICULAR PURPOSE AND NONINFRINGEMENT. IN NO EVENT SHALL THE\n",
    "# AUTHORS OR COPYRIGHT HOLDERS BE LIABLE FOR ANY CLAIM, DAMAGES OR OTHER\n",
    "# LIABILITY, WHETHER IN AN ACTION OF CONTRACT, TORT OR OTHERWISE, ARISING FROM,\n",
    "# OUT OF OR IN CONNECTION WITH THE SOFTWARE OR THE USE OR OTHER DEALINGS IN THE\n",
    "# SOFTWARE."
   ]
  },
  {
   "cell_type": "markdown",
   "metadata": {},
   "source": [
    "## Import Libraries"
   ]
  },
  {
   "cell_type": "code",
   "execution_count": 2,
   "metadata": {},
   "outputs": [],
   "source": [
    "import os\n",
    "import sys\n",
    "import numpy as np\n",
    "import pandas as pd\n",
    "import matplotlib.pyplot as plt\n",
    "import seaborn as sns\n",
    "# from scipy.io import wavfile\n",
    "from IPython.display import Audio\n",
    "import torch\n",
    "import torchaudio\n",
    "import torchaudio.transforms as transforms"
   ]
  },
  {
   "cell_type": "code",
   "execution_count": 3,
   "metadata": {},
   "outputs": [
    {
     "name": "stdout",
     "output_type": "stream",
     "text": [
      "Waveform shape: torch.Size([1, 82158296])\n",
      "Sample rate: 44100\n"
     ]
    }
   ],
   "source": [
    "# Load the audio file\n",
    "waveform, sample_rate = torchaudio.load(\"../data/coraal/audio/wav/ATL_se0_ag1_f_01_1.wav\")\n",
    "\n",
    "print(f\"Waveform shape: {waveform.shape}\")\n",
    "print(f\"Sample rate: {sample_rate}\")\n"
   ]
  },
  {
   "cell_type": "code",
   "execution_count": 4,
   "metadata": {},
   "outputs": [
    {
     "name": "stderr",
     "output_type": "stream",
     "text": [
      "/Users/romerocruzsa/miniconda3/envs/speech-to-text/lib/python3.11/site-packages/torchaudio/functional/functional.py:584: UserWarning: At least one mel filterbank has all zero values. The value for `n_mels` (128) may be set too high. Or, the value for `n_freqs` (201) may be set too low.\n",
      "  warnings.warn(\n"
     ]
    },
    {
     "name": "stdout",
     "output_type": "stream",
     "text": [
      "Mel spectrogram shape: torch.Size([1, 128, 410792])\n"
     ]
    }
   ],
   "source": [
    "# Apply a Mel spectrogram transformation\n",
    "mel_spectrogram = transforms.MelSpectrogram(sample_rate=sample_rate)(waveform)\n",
    "\n",
    "print(f\"Mel spectrogram shape: {mel_spectrogram.shape}\")"
   ]
  },
  {
   "cell_type": "markdown",
   "metadata": {},
   "source": [
    "## Trying this again"
   ]
  },
  {
   "cell_type": "code",
   "execution_count": 5,
   "metadata": {},
   "outputs": [
    {
     "data": {
      "text/plain": [
       "['../data/coraal/transcript/text/ATL_se0_ag2_f_02_1.txt',\n",
       " '../data/coraal/transcript/text/ATL_se0_ag2_m_02_1.txt',\n",
       " '../data/coraal/transcript/text/ATL_se0_ag2_f_01_1.txt',\n",
       " '../data/coraal/transcript/text/ATL_se0_ag2_m_03_1.txt',\n",
       " '../data/coraal/transcript/text/ATL_se0_ag2_m_01_1.txt',\n",
       " '../data/coraal/transcript/text/ATL_se0_ag1_m_05_1.txt',\n",
       " '../data/coraal/transcript/text/ATL_se0_ag1_m_03_1.txt',\n",
       " '../data/coraal/transcript/text/ATL_se0_ag1_f_01_1.txt',\n",
       " '../data/coraal/transcript/text/ATL_se0_ag1_f_03_1.txt',\n",
       " '../data/coraal/transcript/text/ATL_se0_ag1_m_01_1.txt',\n",
       " '../data/coraal/transcript/text/ATL_se0_ag1_m_04_2.txt',\n",
       " '../data/coraal/transcript/text/ATL_se0_ag1_m_04_1.txt',\n",
       " '../data/coraal/transcript/text/ATL_se0_ag1_f_02_1.txt',\n",
       " '../data/coraal/transcript/text/ATL_se0_ag1_m_02_1.txt']"
      ]
     },
     "execution_count": 5,
     "metadata": {},
     "output_type": "execute_result"
    }
   ],
   "source": [
    "# Set the path to your directory\n",
    "transcript_dir = '../data/coraal/transcript/text/'\n",
    "\n",
    "# Create a list of file paths\n",
    "transcript_paths = [os.path.join(transcript_dir, filename) for filename in os.listdir(transcript_dir) if filename.endswith('.txt')]\n",
    "transcript_paths"
   ]
  },
  {
   "cell_type": "code",
   "execution_count": 6,
   "metadata": {},
   "outputs": [
    {
     "data": {
      "text/plain": [
       "['../data/coraal/audio/wav/ATL_se0_ag2_m_02_1.wav',\n",
       " '../data/coraal/audio/wav/ATL_se0_ag2_f_02_1.wav',\n",
       " '../data/coraal/audio/wav/ATL_se0_ag2_m_01_1.wav',\n",
       " '../data/coraal/audio/wav/ATL_se0_ag2_f_01_1.wav',\n",
       " '../data/coraal/audio/wav/ATL_se0_ag2_m_03_1.wav',\n",
       " '../data/coraal/audio/wav/ATL_se0_ag1_m_05_1.wav',\n",
       " '../data/coraal/audio/wav/ATL_se0_ag1_f_03_1.wav',\n",
       " '../data/coraal/audio/wav/ATL_se0_ag1_m_01_1.wav',\n",
       " '../data/coraal/audio/wav/ATL_se0_ag1_m_03_1.wav',\n",
       " '../data/coraal/audio/wav/ATL_se0_ag1_f_01_1.wav',\n",
       " '../data/coraal/audio/wav/ATL_se0_ag1_m_04_1.wav',\n",
       " '../data/coraal/audio/wav/ATL_se0_ag1_m_04_2.wav',\n",
       " '../data/coraal/audio/wav/ATL_se0_ag1_m_02_1.wav',\n",
       " '../data/coraal/audio/wav/ATL_se0_ag1_f_02_1.wav']"
      ]
     },
     "execution_count": 6,
     "metadata": {},
     "output_type": "execute_result"
    }
   ],
   "source": [
    "# Set the path to your directory\n",
    "audio_directory = '../data/coraal/audio/wav'\n",
    "\n",
    "# Create a list of file paths\n",
    "audio_paths = [os.path.join(audio_directory, filename) for filename in os.listdir(audio_directory) if filename.endswith('.wav')]\n",
    "audio_paths"
   ]
  },
  {
   "cell_type": "code",
   "execution_count": 7,
   "metadata": {},
   "outputs": [
    {
     "data": {
      "text/html": [
       "<div>\n",
       "<style scoped>\n",
       "    .dataframe tbody tr th:only-of-type {\n",
       "        vertical-align: middle;\n",
       "    }\n",
       "\n",
       "    .dataframe tbody tr th {\n",
       "        vertical-align: top;\n",
       "    }\n",
       "\n",
       "    .dataframe thead th {\n",
       "        text-align: right;\n",
       "    }\n",
       "</style>\n",
       "<table border=\"1\" class=\"dataframe\">\n",
       "  <thead>\n",
       "    <tr style=\"text-align: right;\">\n",
       "      <th></th>\n",
       "      <th>Line</th>\n",
       "      <th>Spkr</th>\n",
       "      <th>StTime</th>\n",
       "      <th>Content</th>\n",
       "      <th>EnTime</th>\n",
       "      <th>Transcript Path</th>\n",
       "    </tr>\n",
       "  </thead>\n",
       "  <tbody>\n",
       "    <tr>\n",
       "      <th>0</th>\n",
       "      <td>1</td>\n",
       "      <td>ATL_int_01</td>\n",
       "      <td>0.7526</td>\n",
       "      <td>Hey what's going on?</td>\n",
       "      <td>2.5113</td>\n",
       "      <td>../data/coraal/transcript/text/ATL_se0_ag2_f_0...</td>\n",
       "    </tr>\n",
       "    <tr>\n",
       "      <th>1</th>\n",
       "      <td>2</td>\n",
       "      <td>ATL_int_01</td>\n",
       "      <td>2.5113</td>\n",
       "      <td>(pause 0.63)</td>\n",
       "      <td>3.1447</td>\n",
       "      <td>../data/coraal/transcript/text/ATL_se0_ag2_f_0...</td>\n",
       "    </tr>\n",
       "    <tr>\n",
       "      <th>2</th>\n",
       "      <td>3</td>\n",
       "      <td>ATL_int_01</td>\n",
       "      <td>3.1447</td>\n",
       "      <td>I'm here with</td>\n",
       "      <td>4.1659</td>\n",
       "      <td>../data/coraal/transcript/text/ATL_se0_ag2_f_0...</td>\n",
       "    </tr>\n",
       "    <tr>\n",
       "      <th>3</th>\n",
       "      <td>4</td>\n",
       "      <td>ATL_int_01</td>\n",
       "      <td>4.1659</td>\n",
       "      <td>(pause 0.92)</td>\n",
       "      <td>5.0830</td>\n",
       "      <td>../data/coraal/transcript/text/ATL_se0_ag2_f_0...</td>\n",
       "    </tr>\n",
       "    <tr>\n",
       "      <th>4</th>\n",
       "      <td>5</td>\n",
       "      <td>ATL_int_01</td>\n",
       "      <td>5.0830</td>\n",
       "      <td>/RD-NAME-2/.</td>\n",
       "      <td>5.8536</td>\n",
       "      <td>../data/coraal/transcript/text/ATL_se0_ag2_f_0...</td>\n",
       "    </tr>\n",
       "  </tbody>\n",
       "</table>\n",
       "</div>"
      ],
      "text/plain": [
       "   Line        Spkr  StTime               Content  EnTime  \\\n",
       "0     1  ATL_int_01  0.7526  Hey what's going on?  2.5113   \n",
       "1     2  ATL_int_01  2.5113          (pause 0.63)  3.1447   \n",
       "2     3  ATL_int_01  3.1447         I'm here with  4.1659   \n",
       "3     4  ATL_int_01  4.1659          (pause 0.92)  5.0830   \n",
       "4     5  ATL_int_01  5.0830          /RD-NAME-2/.  5.8536   \n",
       "\n",
       "                                     Transcript Path  \n",
       "0  ../data/coraal/transcript/text/ATL_se0_ag2_f_0...  \n",
       "1  ../data/coraal/transcript/text/ATL_se0_ag2_f_0...  \n",
       "2  ../data/coraal/transcript/text/ATL_se0_ag2_f_0...  \n",
       "3  ../data/coraal/transcript/text/ATL_se0_ag2_f_0...  \n",
       "4  ../data/coraal/transcript/text/ATL_se0_ag2_f_0...  "
      ]
     },
     "execution_count": 7,
     "metadata": {},
     "output_type": "execute_result"
    }
   ],
   "source": [
    "def transcript_properties(filepath):\n",
    "    df = pd.read_csv(filepath, delimiter=\"\\t\", index_col=\"Line\")\n",
    "    df['Transcript Path'] = filepath\n",
    "    return df\n",
    "\n",
    "# List to hold individual DataFrames\n",
    "transcript_df = []\n",
    "\n",
    "# Iterate through each file path, read the DataFrame, and append it to the list\n",
    "for path in transcript_paths:\n",
    "    transcript_df.append(transcript_properties(path))\n",
    "\n",
    "# Concatenate all DataFrames in the list into a single DataFrame\n",
    "transcript_df = pd.concat(transcript_df).reset_index()\n",
    "\n",
    "# Display the combined DataFrame\n",
    "transcript_df.head()"
   ]
  },
  {
   "cell_type": "code",
   "execution_count": 8,
   "metadata": {},
   "outputs": [],
   "source": [
    "def split_audio_to_tensors(audio_path, interval=30):\n",
    "    waveform, sample_rate = torchaudio.load(audio_path)\n",
    "    total_length = waveform.size(1) / sample_rate  # in seconds\n",
    "    num_chunks = int(np.ceil(total_length / interval))\n",
    "    \n",
    "    tensors = []\n",
    "    start_times = []\n",
    "    end_times = []\n",
    "\n",
    "    for i in range(num_chunks):\n",
    "        start = int(i * interval * sample_rate)\n",
    "        end = int(min((i + 1) * interval * sample_rate, waveform.size(1)))\n",
    "        chunk_waveform = waveform[:, start:end]\n",
    "        tensors.append(chunk_waveform)\n",
    "        start_times.append(start / sample_rate)\n",
    "        end_times.append(end / sample_rate)\n",
    "    \n",
    "    return tensors, start_times, end_times"
   ]
  },
  {
   "cell_type": "code",
   "execution_count": 9,
   "metadata": {},
   "outputs": [],
   "source": [
    "def split_transcript(transcript_df, interval=30):\n",
    "    transcript_df['StTime'] = pd.to_timedelta(transcript_df['StTime'], unit='s')\n",
    "    transcript_df['EnTime'] = pd.to_timedelta(transcript_df['EnTime'], unit='s')\n",
    "    \n",
    "    new_rows = []\n",
    "    current_content = []\n",
    "    current_start_time = pd.to_timedelta(0, unit='s')\n",
    "    current_end_time = pd.to_timedelta(interval, unit='s')\n",
    "    \n",
    "    for _, row in transcript_df.iterrows():\n",
    "        start_time = row['StTime']\n",
    "        end_time = row['EnTime']\n",
    "        content = row['Content']\n",
    "        \n",
    "        if start_time >= current_end_time:\n",
    "            # Save the current chunk\n",
    "            new_rows.append({\n",
    "                'Content': ' '.join(current_content),\n",
    "                'Start Time': current_start_time.total_seconds(),\n",
    "                'End Time': current_end_time.total_seconds()\n",
    "            })\n",
    "            # Reset for the next chunk\n",
    "            current_content = []\n",
    "            current_start_time = current_end_time\n",
    "            current_end_time += pd.to_timedelta(interval, unit='s')\n",
    "        \n",
    "        current_content.append(content)\n",
    "    \n",
    "    # Add the last chunk\n",
    "    if current_content:\n",
    "        new_rows.append({\n",
    "            'Content': ' '.join(current_content),\n",
    "            'Start Time': current_start_time.total_seconds(),\n",
    "            'End Time': current_end_time.total_seconds()\n",
    "        })\n",
    "    \n",
    "    return pd.DataFrame(new_rows)"
   ]
  },
  {
   "cell_type": "code",
   "execution_count": 11,
   "metadata": {},
   "outputs": [],
   "source": [
    "# Load a small subset of data\n",
    "def load_small_subset(transcript_path, audio_path, num_rows=120):\n",
    "    # Load transcript data\n",
    "    transcript_df = pd.read_csv(transcript_path, delimiter='\\t')\n",
    "    \n",
    "    # Select a subset of rows\n",
    "    transcript_subset = transcript_df.head(num_rows).copy()\n",
    "\n",
    "    # Load audio data\n",
    "    waveform, sample_rate = torchaudio.load(audio_path)\n",
    "    \n",
    "    return transcript_subset, waveform, sample_rate"
   ]
  },
  {
   "cell_type": "code",
   "execution_count": 12,
   "metadata": {},
   "outputs": [
    {
     "data": {
      "text/html": [
       "<div>\n",
       "<style scoped>\n",
       "    .dataframe tbody tr th:only-of-type {\n",
       "        vertical-align: middle;\n",
       "    }\n",
       "\n",
       "    .dataframe tbody tr th {\n",
       "        vertical-align: top;\n",
       "    }\n",
       "\n",
       "    .dataframe thead th {\n",
       "        text-align: right;\n",
       "    }\n",
       "</style>\n",
       "<table border=\"1\" class=\"dataframe\">\n",
       "  <thead>\n",
       "    <tr style=\"text-align: right;\">\n",
       "      <th></th>\n",
       "      <th>Content</th>\n",
       "      <th>Start Time</th>\n",
       "      <th>End Time</th>\n",
       "      <th>Audio Tensor</th>\n",
       "      <th>Audio Path</th>\n",
       "    </tr>\n",
       "  </thead>\n",
       "  <tbody>\n",
       "    <tr>\n",
       "      <th>0</th>\n",
       "      <td>They talking about, don't send him to his dadd...</td>\n",
       "      <td>0.0</td>\n",
       "      <td>30.0</td>\n",
       "      <td>[[tensor(0.0025), tensor(0.0028), tensor(0.002...</td>\n",
       "      <td>../data/coraal/audio/wav/ATL_se0_ag1_f_01_1.wav</td>\n",
       "    </tr>\n",
       "    <tr>\n",
       "      <th>1</th>\n",
       "      <td>&lt;ts&gt; (pause 0.19) Ninety-five. Okay. Nineteen-...</td>\n",
       "      <td>30.0</td>\n",
       "      <td>60.0</td>\n",
       "      <td>[[tensor(-0.0178), tensor(-0.0201), tensor(-0....</td>\n",
       "      <td>../data/coraal/audio/wav/ATL_se0_ag1_f_01_1.wav</td>\n",
       "    </tr>\n",
       "    <tr>\n",
       "      <th>2</th>\n",
       "      <td>Okay. Let's see, any other places lived? Nah, ...</td>\n",
       "      <td>60.0</td>\n",
       "      <td>90.0</td>\n",
       "      <td>[[tensor(0.0188), tensor(0.0175), tensor(0.016...</td>\n",
       "      <td>../data/coraal/audio/wav/ATL_se0_ag1_f_01_1.wav</td>\n",
       "    </tr>\n",
       "    <tr>\n",
       "      <th>3</th>\n",
       "      <td>that's a hell of a connection. (pause 0.47) Le...</td>\n",
       "      <td>90.0</td>\n",
       "      <td>120.0</td>\n",
       "      <td>[[tensor(0.0022), tensor(0.0021), tensor(0.002...</td>\n",
       "      <td>../data/coraal/audio/wav/ATL_se0_ag1_f_01_1.wav</td>\n",
       "    </tr>\n",
       "    <tr>\n",
       "      <th>4</th>\n",
       "      <td>(pause 1.05) You know. (pause 0.47) She the fo...</td>\n",
       "      <td>120.0</td>\n",
       "      <td>150.0</td>\n",
       "      <td>[[tensor(-0.0041), tensor(-0.0051), tensor(-0....</td>\n",
       "      <td>../data/coraal/audio/wav/ATL_se0_ag1_f_01_1.wav</td>\n",
       "    </tr>\n",
       "  </tbody>\n",
       "</table>\n",
       "</div>"
      ],
      "text/plain": [
       "                                             Content  Start Time  End Time  \\\n",
       "0  They talking about, don't send him to his dadd...         0.0      30.0   \n",
       "1  <ts> (pause 0.19) Ninety-five. Okay. Nineteen-...        30.0      60.0   \n",
       "2  Okay. Let's see, any other places lived? Nah, ...        60.0      90.0   \n",
       "3  that's a hell of a connection. (pause 0.47) Le...        90.0     120.0   \n",
       "4  (pause 1.05) You know. (pause 0.47) She the fo...       120.0     150.0   \n",
       "\n",
       "                                        Audio Tensor  \\\n",
       "0  [[tensor(0.0025), tensor(0.0028), tensor(0.002...   \n",
       "1  [[tensor(-0.0178), tensor(-0.0201), tensor(-0....   \n",
       "2  [[tensor(0.0188), tensor(0.0175), tensor(0.016...   \n",
       "3  [[tensor(0.0022), tensor(0.0021), tensor(0.002...   \n",
       "4  [[tensor(-0.0041), tensor(-0.0051), tensor(-0....   \n",
       "\n",
       "                                        Audio Path  \n",
       "0  ../data/coraal/audio/wav/ATL_se0_ag1_f_01_1.wav  \n",
       "1  ../data/coraal/audio/wav/ATL_se0_ag1_f_01_1.wav  \n",
       "2  ../data/coraal/audio/wav/ATL_se0_ag1_f_01_1.wav  \n",
       "3  ../data/coraal/audio/wav/ATL_se0_ag1_f_01_1.wav  \n",
       "4  ../data/coraal/audio/wav/ATL_se0_ag1_f_01_1.wav  "
      ]
     },
     "execution_count": 12,
     "metadata": {},
     "output_type": "execute_result"
    }
   ],
   "source": [
    "# Load a small subset of data for demonstration\n",
    "transcript_path = '../data/coraal/transcript/text/ATL_se0_ag1_f_01_1.txt'  # Replace with your transcript file path\n",
    "audio_path = '../data/coraal/audio/wav/ATL_se0_ag1_f_01_1.wav'  # Replace with your audio file path\n",
    "\n",
    "# Process data\n",
    "transcript_df_subset, waveform, sample_rate = load_small_subset(transcript_path, audio_path, num_rows=120)\n",
    "tensors, start_times, end_times = split_audio_to_tensors(audio_path, interval=30)\n",
    "\n",
    "# Create DataFrame for audio chunks\n",
    "audio_data_subset = pd.DataFrame({\n",
    "    'Audio Tensor': tensors,\n",
    "    'Start Time': start_times,\n",
    "    'End Time': end_times,\n",
    "    'Audio Path': [audio_path] * len(tensors)\n",
    "})\n",
    "\n",
    "# Process the transcript subset\n",
    "transcript_df_subset = split_transcript(transcript_df_subset, interval=30)\n",
    "\n",
    "# Merge DataFrames\n",
    "audio_data_subset['Start Time'] = audio_data_subset['Start Time'].apply(lambda x: round(x, 2))\n",
    "audio_data_subset['End Time'] = audio_data_subset['End Time'].apply(lambda x: round(x, 2))\n",
    "transcript_df_subset['Start Time'] = transcript_df_subset['Start Time'].apply(lambda x: round(x, 2))\n",
    "transcript_df_subset['End Time'] = transcript_df_subset['End Time'].apply(lambda x: round(x, 2))\n",
    "\n",
    "merged_df = pd.merge_asof(transcript_df_subset.sort_values('Start Time'),\n",
    "                          audio_data_subset.sort_values('Start Time'),\n",
    "                          on='Start Time', direction='backward')\n",
    "\n",
    "# Drop redundant columns\n",
    "merged_df = merged_df.drop(columns=['End Time_y'])\n",
    "merged_df = merged_df.rename(columns={'End Time_x': 'End Time'})\n",
    "\n",
    "# Display the merged DataFrame\n",
    "merged_df.head()"
   ]
  },
  {
   "cell_type": "code",
   "execution_count": 13,
   "metadata": {},
   "outputs": [
    {
     "data": {
      "text/plain": [
       "Content         They talking about, don't send him to his dadd...\n",
       "Start Time                                                    0.0\n",
       "End Time                                                     30.0\n",
       "Audio Tensor    [[tensor(0.0025), tensor(0.0028), tensor(0.002...\n",
       "Audio Path        ../data/coraal/audio/wav/ATL_se0_ag1_f_01_1.wav\n",
       "Name: 0, dtype: object"
      ]
     },
     "execution_count": 13,
     "metadata": {},
     "output_type": "execute_result"
    }
   ],
   "source": [
    "merged_df[merged_df.columns].iloc[0]"
   ]
  },
  {
   "cell_type": "code",
   "execution_count": 14,
   "metadata": {},
   "outputs": [
    {
     "data": {
      "text/plain": [
       "\"They talking about, don't send him to his daddy. (pause 0.28) You just need to go file for child support. [/Oh man/.] [Bye.] Why? (pause 0.80) Why? Okay, what's your name? /RD-NAME-2/ (pause 0.52) /RD-NAME-1/ what? (pause 0.48) /RD-NAME-3/ Okay. (pause 0.61) And, uh, (pause 0.39) are you a male or female? I'm a girl, I think. [<laugh>] [I'm just playing.] Okay. (pause 0.19) And your ethnicity? Hum, I'm supposed to say, black or non-hispanic. Okay. (pause 0.74) Um, year of birth?\""
      ]
     },
     "execution_count": 14,
     "metadata": {},
     "output_type": "execute_result"
    }
   ],
   "source": [
    "merged_df[\"Content\"].iloc[0]"
   ]
  },
  {
   "cell_type": "code",
   "execution_count": 16,
   "metadata": {},
   "outputs": [
    {
     "data": {
      "text/plain": [
       "torch.Size([1, 1323000])"
      ]
     },
     "execution_count": 16,
     "metadata": {},
     "output_type": "execute_result"
    }
   ],
   "source": [
    "merged_df[\"Audio Tensor\"].iloc[0].shape"
   ]
  },
  {
   "cell_type": "code",
   "execution_count": null,
   "metadata": {},
   "outputs": [],
   "source": []
  }
 ],
 "metadata": {
  "kernelspec": {
   "display_name": "speech-to-text",
   "language": "python",
   "name": "python3"
  },
  "language_info": {
   "codemirror_mode": {
    "name": "ipython",
    "version": 3
   },
   "file_extension": ".py",
   "mimetype": "text/x-python",
   "name": "python",
   "nbconvert_exporter": "python",
   "pygments_lexer": "ipython3",
   "version": "3.11.9"
  }
 },
 "nbformat": 4,
 "nbformat_minor": 2
}
